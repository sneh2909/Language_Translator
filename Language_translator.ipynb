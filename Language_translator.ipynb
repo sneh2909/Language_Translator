{
 "cells": [
  {
   "cell_type": "markdown",
   "id": "d7413d2b",
   "metadata": {},
   "source": [
    "## Import libraries"
   ]
  },
  {
   "cell_type": "code",
   "execution_count": 9,
   "id": "e9fe9b8d",
   "metadata": {},
   "outputs": [],
   "source": [
    "import requests\n",
    "from io import BytesIO\n",
    "from nltk import sent_tokenize\n",
    "from textwrap import wrap\n",
    "import openai\n",
    "import gradio as gr\n",
    "import os\n",
    "import warnings\n",
    "warnings.filterwarnings(\"ignore\")"
   ]
  },
  {
   "cell_type": "markdown",
   "id": "59bfb6de",
   "metadata": {},
   "source": [
    "## Setting Open API key"
   ]
  },
  {
   "cell_type": "code",
   "execution_count": 10,
   "id": "4978a2be",
   "metadata": {},
   "outputs": [],
   "source": [
    "openai.api_key = \" \""
   ]
  },
  {
   "cell_type": "markdown",
   "id": "545ae232",
   "metadata": {},
   "source": [
    "## Function to get Transalate Text using ChatGPT"
   ]
  },
  {
   "cell_type": "code",
   "execution_count": 11,
   "id": "ec2c1977",
   "metadata": {},
   "outputs": [],
   "source": [
    "def chatgpt_api1(sentence,language):\n",
    "    # Logging\n",
    "    print(f\"Translating audio : {sentence}.\\t:in {language}\")\n",
    "\n",
    "    messages = [\n",
    "    {\"role\": \"system\", \"content\": \"You are a helpful assistant.\"}]\n",
    "    \n",
    "    if sentence and language:\n",
    "        messages.append(\n",
    "            {\"role\": \"user\", \"content\": f\"In an easy way translate the following sentence '{sentence}' into {language}\"},\n",
    "        )\n",
    "        \n",
    "        chat_completion = openai.ChatCompletion.create(\n",
    "            model=\"gpt-3.5-turbo\", messages=messages\n",
    "        )\n",
    "    \n",
    "    translate = chat_completion.choices[0].message.content\n",
    "    return translate"
   ]
  },
  {
   "cell_type": "code",
   "execution_count": 12,
   "id": "2841be02",
   "metadata": {},
   "outputs": [],
   "source": [
    "def generate_portfolio(sentence, language):\n",
    "    portfolio = chatgpt_api1(sentence, language)\n",
    "    return portfolio"
   ]
  },
  {
   "cell_type": "markdown",
   "id": "e4e189f9",
   "metadata": {},
   "source": [
    "## Converting Audio into Text"
   ]
  },
  {
   "cell_type": "code",
   "execution_count": 13,
   "id": "10a355e8",
   "metadata": {},
   "outputs": [],
   "source": [
    "def whisper_transcribe(audio):\n",
    "    os.rename(audio, audio + '.wav')\n",
    "    audio_file = open(audio + '.wav', \"rb\")\n",
    "    transcript = openai.Audio.transcribe(\"whisper-1\", audio_file)\n",
    "    return transcript[\"text\"]"
   ]
  },
  {
   "cell_type": "markdown",
   "id": "8a9a7b22",
   "metadata": {},
   "source": [
    "## Gradio Interface"
   ]
  },
  {
   "cell_type": "code",
   "execution_count": 14,
   "id": "7222c582",
   "metadata": {},
   "outputs": [
    {
     "name": "stdout",
     "output_type": "stream",
     "text": [
      "Running on local URL:  http://127.0.0.1:7867\n",
      "\n",
      "To create a public link, set `share=True` in `launch()`.\n"
     ]
    },
    {
     "data": {
      "text/html": [
       "<div><iframe src=\"http://127.0.0.1:7867/\" width=\"100%\" height=\"500\" allow=\"autoplay; camera; microphone; clipboard-read; clipboard-write;\" frameborder=\"0\" allowfullscreen></iframe></div>"
      ],
      "text/plain": [
       "<IPython.core.display.HTML object>"
      ]
     },
     "metadata": {},
     "output_type": "display_data"
    },
    {
     "data": {
      "text/plain": []
     },
     "execution_count": 14,
     "metadata": {},
     "output_type": "execute_result"
    },
    {
     "name": "stdout",
     "output_type": "stream",
     "text": [
      "Translating audio : hello how are you.\t:in hindi\n"
     ]
    }
   ],
   "source": [
    "with gr.Blocks() as app:\n",
    "    gr.Markdown('<h1 style=\"text-align: center;\"> Text Translator</h1>')\n",
    "    gr.Markdown('<p style=\"text-align: center;\">using the Open AI API</p>')\n",
    "\n",
    "    gr.Markdown(\"## Record the Sentence You want to Translate\")\n",
    "    audio=gr.Audio(source=\"microphone\")\n",
    "    audio_btn = gr.Button(\"Submit\")\n",
    "    output_1 = gr.Textbox(label=\"Speech to Text\")\n",
    "    audio_btn.click(fn=whisper_transcribe,\n",
    "              inputs=[audio],\n",
    "              outputs=output_1)\n",
    "\n",
    "\n",
    "    \n",
    "    gr.Markdown(\"## Please enter the Language in which you want to translate\")\n",
    "    language = gr.Textbox(label=\"language\")\n",
    "\n",
    "    gr.Markdown(\"<hr>\")\n",
    "\n",
    "    story_btn = gr.Button(\"Translate \")\n",
    "    story = gr.Textbox(label=\"Transalated Text \", interactive=False)\n",
    "    story_btn.click(fn=generate_portfolio,\n",
    "              inputs=[output_1,\n",
    "                      language],\n",
    "              outputs=story)\n",
    "    gr.Markdown(\"<hr>\")\n",
    "\n",
    "app.launch()"
   ]
  },
  {
   "cell_type": "code",
   "execution_count": null,
   "id": "3d2335d2",
   "metadata": {},
   "outputs": [],
   "source": []
  }
 ],
 "metadata": {
  "kernelspec": {
   "display_name": "Python 3 (ipykernel)",
   "language": "python",
   "name": "python3"
  },
  "language_info": {
   "codemirror_mode": {
    "name": "ipython",
    "version": 3
   },
   "file_extension": ".py",
   "mimetype": "text/x-python",
   "name": "python",
   "nbconvert_exporter": "python",
   "pygments_lexer": "ipython3",
   "version": "3.9.8"
  }
 },
 "nbformat": 4,
 "nbformat_minor": 5
}
